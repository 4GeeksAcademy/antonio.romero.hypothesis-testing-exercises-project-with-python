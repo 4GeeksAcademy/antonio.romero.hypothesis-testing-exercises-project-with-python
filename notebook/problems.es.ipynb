{
 "cells": [
  {
   "cell_type": "markdown",
   "id": "d9d036c6",
   "metadata": {},
   "source": [
    "# Problemas de prueba de hipótesis"
   ]
  },
  {
   "cell_type": "markdown",
   "id": "d157c4db",
   "metadata": {},
   "source": [
    "## Ejercicio 1\n",
    "\n",
    "Usted es un nutricionista que investiga dos tipos diferentes de dietas para ver si existe una diferencia significativa en la pérdida de peso después de un mes. Eliges dos grupos aleatorios de personas; un grupo sigue la primera dieta y el otro sigue la segunda. Al final del mes, se registra la pérdida de peso (en kg) de cada persona:\n",
    "\n",
    "| Diet 1 | Diet 2 |\n",
    "|:-------|:-------|\n",
    "| 2.0 | 3.0 |\n",
    "| 2.5 | 3.2 |\n",
    "| 3.0 | 3.1 |\n",
    "| 2.8 | 2.9 |\n",
    "| 2.3 | 2.8 |\n",
    "| 2.7 | 3.0 |\n",
    "| 2.5 | 3.2 |\n",
    "\n",
    "Con estos datos se busca responder a la siguiente pregunta: ¿Existe una diferencia significativa en la pérdida de peso promedio entre las personas que siguieron la primera dieta y las que siguieron la segunda dieta?\n",
    "\n",
    "Para sacar conclusiones, siga los siguientes puntos:\n",
    "\n",
    "-Enunciar la hipótesis: hipótesis nula y alternativa.\n",
    "-Realizar la prueba para comprobar la hipótesis. Puede utilizar la prueba t de Student.\n",
    "-Analizar las conclusiones."
   ]
  },
  {
   "cell_type": "code",
   "execution_count": 33,
   "id": "8e0f3cf0",
   "metadata": {},
   "outputs": [
    {
     "name": "stdout",
     "output_type": "stream",
     "text": [
      "Media Dieta 1: 2.54 kg\n",
      "Media Dieta 2: 3.03 kg\n"
     ]
    }
   ],
   "source": [
    "## Enunciar la hipótisis\n",
    "import numpy as np\n",
    "import scipy.stats as stats\n",
    "\n",
    "H0 = \"No hay diferencia de pérdida de peso significativa entre los dos grupos\"\n",
    "H1 = \"Hay diferencia de pérdida de peso significativa entre los dos grupos\"\n",
    "\n",
    "Diet1 = np.array([2.0, 2.5, 3.0, 2.8, 2.3, 2.7, 2.5])\n",
    "Diet2 = np.array([3.0, 3.2, 3.1, 2.9, 2.8, 3.0, 3.2])\n",
    "\n",
    "# Medias\n",
    "mean1 = np.mean(Diet1)\n",
    "mean2 = np.mean(Diet2)\n",
    "\n",
    "print(f\"Media Dieta 1: {mean1:.2f} kg\")\n",
    "print(f\"Media Dieta 2: {mean2:.2f} kg\")\n"
   ]
  },
  {
   "cell_type": "code",
   "execution_count": 34,
   "id": "9d64ca5d",
   "metadata": {},
   "outputs": [
    {
     "name": "stdout",
     "output_type": "stream",
     "text": [
      "Estadístico t = -3.5383\n",
      "p-valor = 0.0041\n",
      "Hay diferencia de pérdida de peso significativa entre los dos grupos\n"
     ]
    }
   ],
   "source": [
    "t_stat, p_value = stats.ttest_ind(Diet1, Diet2)\n",
    "print(f\"Estadístico t = {t_stat:.4f}\") # Mostrar como valor decimal(4)\n",
    "print(f\"p-valor = {p_value:.4f}\")\n",
    "\n",
    "alpha = 0.05\n",
    "\n",
    "if p_value < 0.05:\n",
    "    print(H1)\n",
    "else:\n",
    "    print(H0)"
   ]
  },
  {
   "cell_type": "markdown",
   "id": "66079d7b",
   "metadata": {},
   "source": [
    "###  El grupo de Dieta 2 perdió 3.03 kg y el grupo de Dieta 1, 2.69 kg.\n",
    "### El p-valor (aprox. 0.0041) es menor que 0.05, por lo que rechazamos la hipótesis nula (No hay diferencia de pérdida de peso significativa entre los dos grupo) y aceptamos la hipótesis alternativa (Hay diferencia de pérdida de peso significativa entre los dos grupos)."
   ]
  },
  {
   "cell_type": "markdown",
   "id": "f432e18e",
   "metadata": {},
   "source": [
    "## ANOVA\n",
    "\n",
    "**ANOVA** (*Analysis of Variance - Análisis de variación*) Es una técnica estadística utilizada para comparar las medidas de dos o más grupos. La idea detrás de ANOVA es descomponer la variabilidad total de los datos en dos componentes: variabilidad entre grupos y variabilidad dentro de los grupos:\n",
    "\n",
    "- **Variabilidad entre grupos**: Esta variabilidad se refiere a las diferencias entre las medias del grupo. Si esta variabilidad es considerablemente mayor que la variabilidad dentro del grupo, podría ser una indicación de que al menos una de las medias del grupo es diferente.\n",
    "- **Variabilidad dentro del grupo**: Esta variabilidad se refiere a la dispersión de los datos dentro de cada grupo. Si todos los grupos tienen una variabilidad similar, entonces cualquier diferencia notable en las medias de los grupos podría considerarse significativa.\n",
    "\n",
    "Las hipótesis en ANOVA suelen incluir:\n",
    "\n",
    "- **Hipótesis nula** ($H₀$): Las medias de todos los grupos son iguales.\n",
    "- **Hipótesis alternativa** ($H₁$): Al menos una de las medias del grupo es diferente.\n",
    "\n",
    "Si el resultado de la prueba ANOVA es significativo (por ejemplo, un valor p inferior a un umbral como 0,05), esto sugiere que al menos la media de un grupo es diferente."
   ]
  },
  {
   "cell_type": "markdown",
   "id": "fc5f3721",
   "metadata": {},
   "source": [
    "## Ejercicio 2\n",
    "\n",
    "Un agricultor decide probar tres tipos diferentes de fertilizantes para determinar si alguno es superior en términos de producción de maíz. El agricultor planta maíz en 15 parcelas idénticas y utiliza los tres fertilizantes (5 parcelas para cada tipo). Al final de la temporada mide el rendimiento de maíz (en kg) de cada parcela, con el siguiente resultado:\n",
    "\n",
    "| Fertilizante 1 | Fertilizante 2 | Fertilizante 3 |\n",
    "|:-------------|:-------------|:-------------|\n",
    "| 20 | 22 | 24 |\n",
    "| 21 | 21 | 23 |\n",
    "| 20 | 23 | 22 |\n",
    "| 19 | 22 | 23 |\n",
    "| 20 | 21 | 24 |\n",
    "\n",
    "Con estos datos busca responder la siguiente pregunta: ¿Existe una diferencia significativa en el rendimiento promedio del maíz entre los tres tipos de fertilizantes?\n",
    "\n",
    "Para ayudarte, sigue los siguientes puntos:\n",
    "\n",
    "-Enunciar la hipótesis: hipótesis nula y alternativa.\n",
    "-Realizar la prueba ANOVA.\n",
    "-Analizar las conclusiones.\n",
    "-Si un fertilizante es mejor que otro, ¿cómo podemos saberlo?"
   ]
  },
  {
   "cell_type": "code",
   "execution_count": 35,
   "id": "eecad0ca",
   "metadata": {},
   "outputs": [
    {
     "name": "stdout",
     "output_type": "stream",
     "text": [
      "f_stat = 20.3158\n",
      "p_value = 0.0001\n",
      "Al menos uno de los fertilizantes tiene un rendimiento promedio diferente\n",
      "Multiple Comparison of Means - Tukey HSD, FWER=0.05\n",
      "==================================================\n",
      "group1 group2 meandiff p-adj  lower  upper  reject\n",
      "--------------------------------------------------\n",
      "    F1     F2      1.8 0.0099 0.4572 3.1428   True\n",
      "    F1     F3      3.2 0.0001 1.8572 4.5428   True\n",
      "    F2     F3      1.4 0.0409 0.0572 2.7428   True\n",
      "--------------------------------------------------\n"
     ]
    },
    {
     "data": {
      "image/png": "[encoded data removed]",
      "text/plain": [
       "<Figure size 600x400 with 1 Axes>"
      ]
     },
     "metadata": {},
     "output_type": "display_data"
    }
   ],
   "source": [
    "import scipy.stats as stats\n",
    "import pandas as pd\n",
    "from statsmodels.stats.multicomp import pairwise_tukeyhsd\n",
    "import matplotlib.pyplot as plt\n",
    "\n",
    "H0 = \"No hay diferencias en los rendimientos promedio de los tres fertilizantes\"\n",
    "H1 = \"Al menos uno de los fertilizantes tiene un rendimiento promedio diferente\"\n",
    "\n",
    "# Datos\n",
    "fert1 = [20, 21, 20, 19, 20]\n",
    "fert2 = [22, 21, 23, 22, 21]\n",
    "fert3 = [24, 23, 22, 23, 24]\n",
    "\n",
    "f_stat, p_value = stats.f_oneway(fert1, fert2, fert3)\n",
    "\n",
    "print(f\"f_stat = {f_stat:.4f}\")\n",
    "print(f\"p_value = {p_value:.4f}\")\n",
    "\n",
    "if p_value < 0.05:\n",
    "    print(H1)\n",
    "else:\n",
    "    print(H0)\n",
    "\n",
    "\n",
    "# Convertir a DataFrame\n",
    "data = pd.DataFrame({\n",
    "    'rendimiento': fert1 + fert2 + fert3,\n",
    "    'fertilizante': ['F1']*5 + ['F2']*5 + ['F3']*5\n",
    "})\n",
    "\n",
    "# Prueba Tukey HSD\n",
    "tukey = pairwise_tukeyhsd(data['rendimiento'], data['fertilizante'], alpha=0.05)\n",
    "print(tukey)\n",
    "\n",
    "#Graficar resultados\n",
    "\n",
    "data = [fert1, fert2, fert3]\n",
    "labels = ['F1', 'F2', 'F3']\n",
    "\n",
    "means = [np.mean(fert1), np.mean(fert2), np.mean(fert3)]\n",
    "labels = ['F1', 'F2', 'F3']\n",
    "\n",
    "plt.figure(figsize=(6, 4))\n",
    "bars = plt.bar(labels, means, color=['lightblue', 'lightblue', 'steelblue'])\n",
    "\n",
    "# Añadir los valores encima de las barras\n",
    "for bar in bars:\n",
    "    height = bar.get_height()\n",
    "    plt.text(bar.get_x() + bar.get_width()/2, height + 0.1, f'{height:.1f}',\n",
    "             ha='center', va='bottom', fontweight='bold')\n",
    "\n",
    "plt.title('Rendimiento promedio por tipo de fertilizante')\n",
    "plt.xlabel('Tipo de fertilizante')\n",
    "plt.ylabel('Rendimiento promedio (kg)')\n",
    "plt.ylim(0, max(means) + 2)\n",
    "plt.grid(axis='y', linestyle='--', alpha=0.7)\n",
    "plt.tight_layout()\n",
    "plt.show()"
   ]
  },
  {
   "cell_type": "markdown",
   "id": "fa58eb68",
   "metadata": {},
   "source": [
    "### la prueba ANOVA marca un favor f muy alto y un valor p muy bajo\n",
    "### 0.0001 < 0.05 así que rechazamos la hipótesis nula (H0). El fertilizante nº 3 es el de mayor rendimiento."
   ]
  },
  {
   "cell_type": "code",
   "execution_count": null,
   "id": "f9d0159d",
   "metadata": {},
   "outputs": [],
   "source": []
  }
 ],
 "metadata": {
  "kernelspec": {
   "display_name": "Python 3",
   "language": "python",
   "name": "python3"
  },
  "language_info": {
   "codemirror_mode": {
    "name": "ipython",
    "version": 3
   },
   "file_extension": ".py",
   "mimetype": "text/x-python",
   "name": "python",
   "nbconvert_exporter": "python",
   "pygments_lexer": "ipython3",
   "version": "3.11.4"
  }
 },
 "nbformat": 4,
 "nbformat_minor": 5
}
